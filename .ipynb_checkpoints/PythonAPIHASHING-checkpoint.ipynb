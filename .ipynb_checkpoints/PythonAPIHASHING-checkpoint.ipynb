{
 "cells": [
  {
   "cell_type": "markdown",
   "id": "2b7f7665-3af7-4579-83c3-aaaa99e635e3",
   "metadata": {},
   "source": [
    "# Project Overview\n",
    "\n",
    "The goal of this project is to see if I can implement the techniques used in modern C based executable malware for API hashing and use them in Python. This will be a method of obfuscation clearly but I want to see how effective it will be in python. I will be focusing on simple techniques for obfuscation here so no runtime obfuscation programs like PyArmor or such."
   ]
  },
  {
   "cell_type": "code",
   "execution_count": 37,
   "id": "53e98395-8df8-4813-a52a-a92b0609b070",
   "metadata": {},
   "outputs": [
    {
     "name": "stdout",
     "output_type": "stream",
     "text": [
      "56318\n"
     ]
    }
   ],
   "source": [
    "# Hashing algorithm used by smoke loader\n",
    "def api_hash_algorithm(name):\n",
    "\n",
    "    hash_value = 0\n",
    "    for x in name:\n",
    "        hash_value = 2 * ((ord(x) | 0x60) + hash_value)\n",
    "    return hash_value\n",
    "\n",
    "print(api_hash_algorithm(\"requests\")) #requests 56318\n",
    "def get_installed_packages():\n",
    "    import pkg_resources\n",
    "    packages = [str(packs) for packs in pkg_resources.working_set]\n",
    "    counter = 0\n",
    "    for packs in packages:\n",
    "        packs = packs.split(\" \")[0]\n",
    "        packages[counter] = packs\n",
    "        counter+=1\n",
    "    return packages\n",
    "\n",
    "installed_packages = get_installed_packages()\n",
    "\n",
    "for package in installed_packages:\n",
    "    GENERATED_HASH = api_hash_algorithm(package)\n",
    "    if GENERATED_HASH == 56318:\n",
    "        import_command = \"import \" + str(package) + \" as re\"\n",
    "    \n",
    "        exec(import_command)\n",
    "        extracted_data = re.get(\"https://malscope.com\")\n",
    "        # print(extracted_data.text)"
   ]
  },
  {
   "cell_type": "markdown",
   "id": "d4fe43ab-8946-4a75-8b97-e05c6c9034b9",
   "metadata": {},
   "source": [
    "# Initial Conclusion\n",
    "From the above Code API Hashing can be done and done quiet simply. Using the exec funtion we can even import the package with a little more obfuscation"
   ]
  },
  {
   "cell_type": "code",
   "execution_count": 5,
   "id": "f0be816f-76c0-4966-a669-44fc63b0b436",
   "metadata": {},
   "outputs": [
    {
     "name": "stdout",
     "output_type": "stream",
     "text": [
      "J2ltcG9ydCB7MH0gYXMgcmUn\n"
     ]
    }
   ],
   "source": [
    "# Combination with hashing and base64 encoding\n",
    "\n",
    "encoded_to_be = r\"'import {0} as re'\".encode(\"utf-8\")\n",
    "\n",
    "import base64 \n",
    "\n",
    "encoded_data = base64.b64encode(encoded_to_be)\n",
    "print(encoded_data)\n"
   ]
  },
  {
   "cell_type": "code",
   "execution_count": null,
   "id": "06700575-7e3d-4987-86aa-a79c58ec7f15",
   "metadata": {},
   "outputs": [],
   "source": []
  }
 ],
 "metadata": {
  "kernelspec": {
   "display_name": "Python 3 (ipykernel)",
   "language": "python",
   "name": "python3"
  },
  "language_info": {
   "codemirror_mode": {
    "name": "ipython",
    "version": 3
   },
   "file_extension": ".py",
   "mimetype": "text/x-python",
   "name": "python",
   "nbconvert_exporter": "python",
   "pygments_lexer": "ipython3",
   "version": "3.8.10"
  }
 },
 "nbformat": 4,
 "nbformat_minor": 5
}
